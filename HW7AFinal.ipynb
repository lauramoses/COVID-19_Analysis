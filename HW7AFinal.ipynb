{
 "cells": [
  {
   "cell_type": "markdown",
   "metadata": {},
   "source": [
    "\n",
    "# CS2311-Data Structures and Algorithms in Python\n",
    "## Homework 7A P\n",
    "## Due Date: See BlackBoard"
   ]
  },
  {
   "cell_type": "markdown",
   "metadata": {},
   "source": [
    "## Student Name: Laura Moses"
   ]
  },
  {
   "cell_type": "markdown",
   "metadata": {},
   "source": [
    "**SUBMISSION GUIDELINES**\n",
    "\n",
    "1. First design, develop and test your code in a Jupyter notebook or other development environment\n",
    "   - You can expirement and try different things in this notebook\n",
    "2. Then copy your final code and markdown cells into the Jupyter Notebook file (.ipynb) provided for the assignment and submit to Blackboard\n",
    "   - **Your submission file should be named HW7AFinal.ipynb**\n",
    "   - I must be able to open and run your notebook in order to grade it\n",
    "3. Note that the Jupyter notebook provided for final submission may contain testing code to help you check that your output and expected match.  \n",
    "   - Follow the instructions in the notebook for copying your code and running the testing code\n",
    "   - The instructor may run additional tests to check that your code runs correctly\n",
    "4. If asked, also provide any supporting files or images requested in the assignment\n",
    "   - If there are multiple files to submit you should zip the files into one folder and submit the folder\n",
    "\n",
    "**GRADING CRITERIA:**\n",
    "1. Good documentation/comments and program readability using both markdown cells and code comments\n",
    "2. Algorithm/pseudo-code is explained in a markdown cell and is efficiently written\n",
    "3. Program runs correctly for test cases with no syntax errors or logical errors\n",
    "\n",
    "***The instructor should be able to reproduce your work from your notebook.***"
   ]
  },
  {
   "cell_type": "markdown",
   "metadata": {},
   "source": [
    "# The SIR Epidemiological Model\n",
    "\n",
    "The SIR (Susceptible->Infected->Recovered) model is used under situations in which a recovered person receives lifelong immunity from a disease. An example might be varicella (“Chicken Pox”), where infected and subsequently recovered individuals are considered to have lifelong immunity to the disease and will not contract it again.\n",
    "\n",
    "The simplest form of this model makes the following assumptions:\n",
    "- Members of the population mix uniformly (the same degree of interaction between all members).\n",
    "- The probability of infection is independent of age, race and other demographic/differentiating factors.\n",
    "- There is no inherited immunity.\n",
    "- The population does not change.\n",
    "- Individuals can go from Susceptible->Infected->Recovered, and through no other pathways."
   ]
  },
  {
   "cell_type": "markdown",
   "metadata": {},
   "source": [
    "# Getting Started\n",
    "\n",
    "Before creating any plots, we need to understand mathematical framework for the SIR model. Let’s define the following basic notation:\n",
    "\n",
    "Our total population is N\n",
    "\n",
    "Now we come to the prediction part with the SIR model, which basic idea is quite simple. There are three groups of people: those that are healthy but susceptible to the disease (S), the infected (I) and the people who have recovered (R):"
   ]
  },
  {
   "attachments": {
    "image.png": {
     "image/png": "[encoded data removed]"
    }
   },
   "cell_type": "markdown",
   "metadata": {},
   "source": [
    "![image.png](attachment:image.png)"
   ]
  },
  {
   "cell_type": "markdown",
   "metadata": {},
   "source": [
    "To model the dynamics of the outbreak we need three differential equations, one for the change in each group, where $\\beta$ is the parameter that controls the transition between ${S}$ and ${I}$ and $\\gamma$  which controls the transition between ${I}$ and ${R}$ :\n",
    "\n",
    "$$ \\frac{dS}{dt} = -\\beta\\frac{IS}{N}$$\n",
    "\n",
    "$$ \\frac{dI}{dt} = \\beta\\frac{IS}{N}-\\gamma{I}$$\n",
    "\n",
    "$$ \\frac{dR}{dt} = \\gamma{I}$$  \n",
    "\n"
   ]
  },
  {
   "cell_type": "markdown",
   "metadata": {},
   "source": [
    "The constant $\\beta$ represents the contact rate of the disease (an infected individual comes into contact with $\\beta{N}$ other individuals per unit time); the value of  must be greater than or equal to zero."
   ]
  },
  {
   "cell_type": "markdown",
   "metadata": {},
   "source": [
    "The constant $\\gamma$ is the mean recovery rate (which will always be greater than or equal to zero); "
   ]
  },
  {
   "cell_type": "markdown",
   "metadata": {},
   "source": [
    "It is important to remember that our total population is described by the sum of susceptible, infected, and recovered individuals:\n",
    "\n",
    "$$ {N(t)} = {S(t) + I(t) + R(t)}$$"
   ]
  },
  {
   "cell_type": "markdown",
   "metadata": {},
   "source": [
    "# Building Our Model in Python\n",
    "\n",
    "First, we’ll import the necessary packages. We’ll be using matplotlib for our plotting package, and the odeint function from scipy to integrate our system of differential equations."
   ]
  },
  {
   "cell_type": "code",
   "execution_count": 1,
   "metadata": {},
   "outputs": [],
   "source": [
    "import numpy as np\n",
    "import pandas as pd\n",
    "from scipy.integrate import odeint\n",
    "import matplotlib.pyplot as plt"
   ]
  },
  {
   "cell_type": "markdown",
   "metadata": {},
   "source": [
    "The next step will be to set our initial conditions for the model. \n",
    "\n",
    "Let’s assume the following scenario: a small contingent of individuals (six people) have returned fully-infected with varicella from a “pox party” in a distant city. All individuals arrive and equally mingle among the USA populus (total population including infected (N) = 300,000,000 people) where no one has ever been exposed to varicella (i.e. no recovered individuals). \n",
    "\n",
    "We’ll follow the epidemic for 200 days. This may seem like a long time, but it will also allow us more flexibility when experimenting with values for $\\beta$  and $\\gamma$.\n",
    "\n",
    "Given the above scenario, we can assign the necessary values in our Python script:"
   ]
  },
  {
   "cell_type": "code",
   "execution_count": 2,
   "metadata": {},
   "outputs": [],
   "source": [
    "# total population\n",
    "N = 300_000_000       # Approx US population\n",
    "# initial infected\n",
    "I0 = 6\n",
    "# initial recovered\n",
    "R0 = 1          \n",
    "#initial susceptible\n",
    "S0 = N - I0 - R0"
   ]
  },
  {
   "cell_type": "markdown",
   "metadata": {},
   "source": [
    "Now, let’s build our initial conditions vector,  and then use linspace to create an array containing our 200 sampling points (days)."
   ]
  },
  {
   "cell_type": "code",
   "execution_count": 3,
   "metadata": {},
   "outputs": [],
   "source": [
    "# initial conditions vector\n",
    "y0 = (S0, I0, R0)\n",
    "# 200 evenly spaced values (representing days)\n",
    "t = np.linspace(0, 200, 300)"
   ]
  },
  {
   "cell_type": "markdown",
   "metadata": {},
   "source": [
    "Arguably, one of the most important parts of our script will be a function containing the differential equations which we will pass to an function we will write for integration of the differential equation."
   ]
  },
  {
   "cell_type": "code",
   "execution_count": 4,
   "metadata": {},
   "outputs": [],
   "source": [
    "def SIR(y, t, N, beta, gamma):\n",
    "    # S, I, R values assigned from vector\n",
    "    S, I, R = y\n",
    "    # differential equations\n",
    "    dSdt = -beta * S * I / N\n",
    "    dIdt = beta * S * I / N - gamma * I # filled in\n",
    "    dRdt = gamma * I                    # filled in\n",
    "    return dSdt, dIdt, dRdt"
   ]
  },
  {
   "cell_type": "markdown",
   "metadata": {},
   "source": [
    "We’ll also need to assign values for $\\beta$ and $\\gamma$. We’ll start with $\\beta = 0.3$ and $\\gamma = 0.1$, and plot again with $\\beta = 0.2$ and $\\gamma = 0.1$.  Lower $\\beta$ is equivalent to \"social distancing\" note how the peak is muted and pushed out in time."
   ]
  },
  {
   "cell_type": "code",
   "execution_count": 5,
   "metadata": {},
   "outputs": [],
   "source": [
    "# contact rate\n",
    "beta1 = 0.3\n",
    "# mean recovery rate\n",
    "gamma = 0.1"
   ]
  },
  {
   "cell_type": "markdown",
   "metadata": {},
   "source": [
    "We can now pass the function to SIR_integ(), a function we have written to integrate the differential equation, and pull the resulting susceptible, infected and recovered values from the transpose of the returned array."
   ]
  },
  {
   "cell_type": "code",
   "execution_count": 6,
   "metadata": {},
   "outputs": [],
   "source": [
    "# Complete the code below\n",
    "# function to integrate SIR model from starting conditions but with ability to change beta over time\n",
    "def SIR_Integ(y0,t,N,beta_0,gamma):\n",
    "    \n",
    "    y = y0\n",
    "    values = np.zeros((len(t),3)) \n",
    "    values[0,0] = y0[0]        # S0\n",
    "    values[0,1] = y0[1]        # I0            #  <---- completed\n",
    "    values[0,2] = y0[2]        # R0\n",
    "    beta = beta_0\n",
    "    \n",
    "    for i in range(1,len(t)):\n",
    "        dSt, dIt, dRt = SIR(y,i,N,beta,gamma)         #  <---- completed\n",
    "        \n",
    "        values[i,0] = values[i-1,0] + dSt\n",
    "        values[i,1] = values[i-1,1] + dIt   #  <---- complete\n",
    "        values[i,2] = values[i-1,2] + dRt \n",
    "        y = (values[i,0],values[i,1],values[i,2])         #  <---- completed\n",
    "        \n",
    "    return values"
   ]
  },
  {
   "cell_type": "markdown",
   "metadata": {},
   "source": [
    " First scenario:"
   ]
  },
  {
   "cell_type": "code",
   "execution_count": 7,
   "metadata": {},
   "outputs": [],
   "source": [
    "# Integrate the diff eqs over the time array\n",
    "#values_1 = odeint(func, y0, t, args=(N, beta1, gamma))\n",
    "values_1 = SIR_Integ(y0, t, N, beta1, gamma)\n",
    "\n",
    "# assign S, I, R values from values transpose\n",
    "S1, I1, R1 = values_1.T"
   ]
  },
  {
   "cell_type": "markdown",
   "metadata": {},
   "source": [
    "Second scenario:"
   ]
  },
  {
   "cell_type": "code",
   "execution_count": 8,
   "metadata": {},
   "outputs": [],
   "source": [
    "# Integrate the diff eqs over the time array - Second scenario\n",
    "beta2 = 0.2\n",
    "#values_2 = odeint(func, y0, t, args=(N, beta2, gamma))\n",
    "values_2 = SIR_Integ(y0, t, N, beta2, gamma)\n",
    "\n",
    "# assign S, I, R values from values transpose\n",
    "S2, I2, R2 = values_2.T"
   ]
  },
  {
   "cell_type": "markdown",
   "metadata": {},
   "source": [
    "Finally, we can plot the arrays using matplotlib.  Notice how a lower Beta, equivalent to social distancing, \"flattens\" the peak of the epidemic.  (See McKinney Chapter 9 on plotting or watch the videos on Blackboard)"
   ]
  },
  {
   "cell_type": "code",
   "execution_count": 9,
   "metadata": {},
   "outputs": [
    {
     "data": {
      "image/png": "[encoded data removed]",
      "text/plain": [
       "<Figure size 1080x360 with 2 Axes>"
      ]
     },
     "metadata": {
      "needs_background": "light"
     },
     "output_type": "display_data"
    }
   ],
   "source": [
    "# first figure with higher beta\n",
    "figure, ax = plt.subplots(nrows=1,ncols=2,figsize=(15,5))\n",
    "i = 0\n",
    "\n",
    "# Your plotting code here\n",
    "ax[i].plot(t, S1, 'black', label = 'Susceptible')\n",
    "ax[i].plot(t, I1, 'orange', label = 'Infected')\n",
    "ax[i].plot(t, R1, 'blue', label = 'Recovered')\n",
    "ax[i].set_xlabel('Time (days)')\n",
    "ax[i].set_ylabel('Number of People')\n",
    "ax[i].grid(b=True, which='major', c='#bbbbbb', lw=1, ls='-')\n",
    "ax[i].set_title(\"Beta = \"+format(beta1,'.1f')+\" Gamma = \"+format(gamma,'.1f'))\n",
    "legend = ax[i].legend()\n",
    "legend.get_frame().set_alpha(0.5)\n",
    "\n",
    "# first figure with lower beta\n",
    "i = 1\n",
    "ax[i].plot(t, S2, 'black', label = 'Susceptible')\n",
    "ax[i].plot(t, I2, 'orange', label = 'Infected')\n",
    "ax[i].plot(t, R2, 'blue', label = 'Recovered')\n",
    "ax[i].set_xlabel('Time (days)')\n",
    "ax[i].set_ylabel('Number of People')\n",
    "ax[i].grid(b=True, which='major', c='#bbbbbb', lw=1, ls='-')\n",
    "ax[i].set_title(\"Beta = \"+format(beta2,'.1f')+\" Gamma = \"+format(gamma,'.1f'))\n",
    "legend = ax[i].legend()\n",
    "legend.get_frame().set_alpha(0.5)\n",
    "\n",
    "plt.show()"
   ]
  },
  {
   "cell_type": "code",
   "execution_count": 10,
   "metadata": {
    "scrolled": false
   },
   "outputs": [
    {
     "name": "stdout",
     "output_type": "stream",
     "text": [
      "Beta =  0.30\n",
      "Gamma =  0.10\n",
      "RO =  3.00\n",
      "Days to Peak Infection =  100\n",
      "Peak Infected =  93,689,288  or  31.23% of population\n",
      "Peak Recoverd (Immune + Dead) =  284,001,245\n",
      "Deaths =  8,520,037 at mortality rate of  3.00%\n"
     ]
    }
   ],
   "source": [
    "# summarize some of the statistics\n",
    "R0 = beta1/gamma   \n",
    "mort = 0.03    # assumed mortality rate\n",
    "print(\"Beta = \",format(beta1,'0.2f'))\n",
    "print(\"Gamma = \",format(gamma,'0.2f'))\n",
    "print(\"RO = \",format(R0,'0.2f'))\n",
    "pk = np.argmax(I1)\n",
    "print(\"Days to Peak Infection = \",pk)\n",
    "print(\"Peak Infected = \", format(I1[pk],\",.0f\"),\" or \",format(I1[pk]/N,\".2%\"),\"of population\")\n",
    "print(\"Peak Recoverd (Immune + Dead) = \", format(R1[-1],\",.0f\"))\n",
    "print(\"Deaths = \",format(R1[-1] * mort,',.0f'),\"at mortality rate of \",format(mort,\".2%\"))   # max deaths with supposed 3% mortality rate"
   ]
  },
  {
   "cell_type": "markdown",
   "metadata": {},
   "source": [
    "# US CoVid19 Cases\n",
    "\n",
    "Now lets see if we can fit this model to the case data that was being reported in the US early during the pandemic.  We will use the data reported in wikipedia which is updated daily.\n",
    "\n",
    "Here is the main link summarizing the Covid-19 pandemic.\n",
    "\n",
    "https://en.wikipedia.org/wiki/2020_coronavirus_outbreak_in_the_United_States\n",
    "\n",
    "If you go through the web site you will find a web page with case statistics for each of the states in the US.\n",
    "\n",
    "https://en.wikipedia.org/wiki/Template:2019%E2%80%9320_coronavirus_pandemic_data/United_States_medical_cases\n",
    "\n",
    "Take a look at the web site and note the table summarizing all the case statitics - we need to extract the \n",
    "total cases from this table.  We will see in the second part of the assignment how to \"scrape\" the information from the web into a pandas data frame.\n",
    "\n",
    "For the first part of the assignment the data through April 23rd has been scraped for you and saved into an excel file for your use.\n",
    "\n",
    "We will see what the model was projecting early during the pandemic and get a sense for concern at the time and why the lockdowns were implemented.   \n",
    "\n",
    "In the second part of the assignment we will look at where we are now after lockdowns, social distancing, and mask wearing, and we will see what the model predicts based on the most recent data as we see an increase again in cases."
   ]
  },
  {
   "cell_type": "code",
   "execution_count": 11,
   "metadata": {},
   "outputs": [],
   "source": [
    "import numpy as np\n",
    "import pandas as pd\n",
    "from scipy.integrate import odeint\n",
    "import matplotlib.pyplot as plt"
   ]
  },
  {
   "cell_type": "code",
   "execution_count": 12,
   "metadata": {},
   "outputs": [],
   "source": [
    "# read the data from excel early in the pandemic (see McKinney Chpt 6 for reading from excel)\n",
    "xlsx = pd.ExcelFile(\"Covid_19_USA_Scraped_3_21_2020.xlsx\")"
   ]
  },
  {
   "cell_type": "code",
   "execution_count": 13,
   "metadata": {},
   "outputs": [
    {
     "data": {
      "text/plain": [
       "pandas.io.excel._base.ExcelFile"
      ]
     },
     "execution_count": 13,
     "metadata": {},
     "output_type": "execute_result"
    }
   ],
   "source": [
    "type(xlsx)    #  Excel object which contains our excel sheets and data within sheetbb"
   ]
  },
  {
   "cell_type": "code",
   "execution_count": 14,
   "metadata": {},
   "outputs": [],
   "source": [
    "# get the data from Sheet1 in the excel workbook\n",
    "dat = pd.read_excel(xlsx,sheet_name=\"Sheet1\")"
   ]
  },
  {
   "cell_type": "code",
   "execution_count": 15,
   "metadata": {},
   "outputs": [
    {
     "data": {
      "text/html": [
       "<div>\n",
       "<style scoped>\n",
       "    .dataframe tbody tr th:only-of-type {\n",
       "        vertical-align: middle;\n",
       "    }\n",
       "\n",
       "    .dataframe tbody tr th {\n",
       "        vertical-align: top;\n",
       "    }\n",
       "\n",
       "    .dataframe thead th {\n",
       "        text-align: right;\n",
       "    }\n",
       "</style>\n",
       "<table border=\"1\" class=\"dataframe\">\n",
       "  <thead>\n",
       "    <tr style=\"text-align: right;\">\n",
       "      <th></th>\n",
       "      <th>Date</th>\n",
       "      <th>AK</th>\n",
       "      <th>AZ</th>\n",
       "      <th>CA</th>\n",
       "      <th>CO</th>\n",
       "      <th>HI</th>\n",
       "      <th>ID</th>\n",
       "      <th>MT</th>\n",
       "      <th>NM</th>\n",
       "      <th>NV</th>\n",
       "      <th>...</th>\n",
       "      <th>MD</th>\n",
       "      <th>ME</th>\n",
       "      <th>NH</th>\n",
       "      <th>NJ</th>\n",
       "      <th>NY</th>\n",
       "      <th>PA</th>\n",
       "      <th>RI</th>\n",
       "      <th>VT</th>\n",
       "      <th>New</th>\n",
       "      <th>USA</th>\n",
       "    </tr>\n",
       "  </thead>\n",
       "  <tbody>\n",
       "    <tr>\n",
       "      <th>56</th>\n",
       "      <td>2020-03-17</td>\n",
       "      <td>9.0</td>\n",
       "      <td>71.0</td>\n",
       "      <td>515.0</td>\n",
       "      <td>195.0</td>\n",
       "      <td>20.0</td>\n",
       "      <td>16.0</td>\n",
       "      <td>11.0</td>\n",
       "      <td>23.0</td>\n",
       "      <td>84.0</td>\n",
       "      <td>...</td>\n",
       "      <td>65.0</td>\n",
       "      <td>36.0</td>\n",
       "      <td>34.0</td>\n",
       "      <td>267.0</td>\n",
       "      <td>1375.0</td>\n",
       "      <td>96.0</td>\n",
       "      <td>67.0</td>\n",
       "      <td>23.0</td>\n",
       "      <td>1291</td>\n",
       "      <td>5664</td>\n",
       "    </tr>\n",
       "    <tr>\n",
       "      <th>57</th>\n",
       "      <td>2020-03-18</td>\n",
       "      <td>12.0</td>\n",
       "      <td>78.0</td>\n",
       "      <td>641.0</td>\n",
       "      <td>228.0</td>\n",
       "      <td>22.0</td>\n",
       "      <td>19.0</td>\n",
       "      <td>14.0</td>\n",
       "      <td>28.0</td>\n",
       "      <td>110.0</td>\n",
       "      <td>...</td>\n",
       "      <td>93.0</td>\n",
       "      <td>46.0</td>\n",
       "      <td>47.0</td>\n",
       "      <td>429.0</td>\n",
       "      <td>2383.0</td>\n",
       "      <td>133.0</td>\n",
       "      <td>79.0</td>\n",
       "      <td>25.0</td>\n",
       "      <td>2410</td>\n",
       "      <td>8074</td>\n",
       "    </tr>\n",
       "    <tr>\n",
       "      <th>58</th>\n",
       "      <td>2020-03-19</td>\n",
       "      <td>15.0</td>\n",
       "      <td>95.0</td>\n",
       "      <td>718.0</td>\n",
       "      <td>289.0</td>\n",
       "      <td>32.0</td>\n",
       "      <td>31.0</td>\n",
       "      <td>18.0</td>\n",
       "      <td>35.0</td>\n",
       "      <td>160.0</td>\n",
       "      <td>...</td>\n",
       "      <td>115.0</td>\n",
       "      <td>56.0</td>\n",
       "      <td>52.0</td>\n",
       "      <td>744.0</td>\n",
       "      <td>4153.0</td>\n",
       "      <td>185.0</td>\n",
       "      <td>90.0</td>\n",
       "      <td>28.0</td>\n",
       "      <td>3948</td>\n",
       "      <td>12022</td>\n",
       "    </tr>\n",
       "    <tr>\n",
       "      <th>59</th>\n",
       "      <td>2020-03-20</td>\n",
       "      <td>18.0</td>\n",
       "      <td>114.0</td>\n",
       "      <td>1049.0</td>\n",
       "      <td>375.0</td>\n",
       "      <td>43.0</td>\n",
       "      <td>39.0</td>\n",
       "      <td>23.0</td>\n",
       "      <td>43.0</td>\n",
       "      <td>174.0</td>\n",
       "      <td>...</td>\n",
       "      <td>157.0</td>\n",
       "      <td>60.0</td>\n",
       "      <td>63.0</td>\n",
       "      <td>892.0</td>\n",
       "      <td>7103.0</td>\n",
       "      <td>268.0</td>\n",
       "      <td>100.0</td>\n",
       "      <td>35.0</td>\n",
       "      <td>5417</td>\n",
       "      <td>17439</td>\n",
       "    </tr>\n",
       "    <tr>\n",
       "      <th>60</th>\n",
       "      <td>2020-03-21</td>\n",
       "      <td>20.0</td>\n",
       "      <td>155.0</td>\n",
       "      <td>1267.0</td>\n",
       "      <td>487.0</td>\n",
       "      <td>54.0</td>\n",
       "      <td>51.0</td>\n",
       "      <td>29.0</td>\n",
       "      <td>57.0</td>\n",
       "      <td>219.0</td>\n",
       "      <td>...</td>\n",
       "      <td>198.0</td>\n",
       "      <td>77.0</td>\n",
       "      <td>73.0</td>\n",
       "      <td>1329.0</td>\n",
       "      <td>10357.0</td>\n",
       "      <td>371.0</td>\n",
       "      <td>112.0</td>\n",
       "      <td>55.0</td>\n",
       "      <td>6271</td>\n",
       "      <td>23710</td>\n",
       "    </tr>\n",
       "  </tbody>\n",
       "</table>\n",
       "<p>5 rows × 54 columns</p>\n",
       "</div>"
      ],
      "text/plain": [
       "         Date    AK     AZ      CA     CO    HI    ID    MT    NM     NV  ...  \\\n",
       "56 2020-03-17   9.0   71.0   515.0  195.0  20.0  16.0  11.0  23.0   84.0  ...   \n",
       "57 2020-03-18  12.0   78.0   641.0  228.0  22.0  19.0  14.0  28.0  110.0  ...   \n",
       "58 2020-03-19  15.0   95.0   718.0  289.0  32.0  31.0  18.0  35.0  160.0  ...   \n",
       "59 2020-03-20  18.0  114.0  1049.0  375.0  43.0  39.0  23.0  43.0  174.0  ...   \n",
       "60 2020-03-21  20.0  155.0  1267.0  487.0  54.0  51.0  29.0  57.0  219.0  ...   \n",
       "\n",
       "       MD    ME    NH      NJ       NY     PA     RI    VT   New    USA  \n",
       "56   65.0  36.0  34.0   267.0   1375.0   96.0   67.0  23.0  1291   5664  \n",
       "57   93.0  46.0  47.0   429.0   2383.0  133.0   79.0  25.0  2410   8074  \n",
       "58  115.0  56.0  52.0   744.0   4153.0  185.0   90.0  28.0  3948  12022  \n",
       "59  157.0  60.0  63.0   892.0   7103.0  268.0  100.0  35.0  5417  17439  \n",
       "60  198.0  77.0  73.0  1329.0  10357.0  371.0  112.0  55.0  6271  23710  \n",
       "\n",
       "[5 rows x 54 columns]"
      ]
     },
     "execution_count": 15,
     "metadata": {},
     "output_type": "execute_result"
    }
   ],
   "source": [
    "# Let's take a look at the data frame\n",
    "dat.tail()"
   ]
  },
  {
   "cell_type": "code",
   "execution_count": 16,
   "metadata": {},
   "outputs": [
    {
     "data": {
      "text/plain": [
       "0         1\n",
       "1         1\n",
       "2         1\n",
       "3         2\n",
       "4         3\n",
       "      ...  \n",
       "56     5664\n",
       "57     8074\n",
       "58    12022\n",
       "59    17439\n",
       "60    23710\n",
       "Name: USA, Length: 61, dtype: int64"
      ]
     },
     "execution_count": 16,
     "metadata": {},
     "output_type": "execute_result"
    }
   ],
   "source": [
    "# We will work with the USA data for this assignment - let's take a look at that column\n",
    "dat[\"USA\"].dropna()"
   ]
  },
  {
   "cell_type": "code",
   "execution_count": 17,
   "metadata": {},
   "outputs": [],
   "source": [
    "# Put the data into a tuple for our models\n",
    "under_report_factor = 1                  # assume no under reporting of cases\n",
    "Infected = tuple(dat[\"USA\"].dropna()*under_report_factor)"
   ]
  },
  {
   "cell_type": "markdown",
   "metadata": {},
   "source": [
    "**Note the exponential nature of the reported case growth rate**"
   ]
  },
  {
   "cell_type": "code",
   "execution_count": 18,
   "metadata": {
    "scrolled": true
   },
   "outputs": [
    {
     "data": {
      "image/png": "[encoded data removed]",
      "text/plain": [
       "<Figure size 1080x360 with 2 Axes>"
      ]
     },
     "metadata": {
      "needs_background": "light"
     },
     "output_type": "display_data"
    }
   ],
   "source": [
    "# Plot the wikipedia daily case data \n",
    "Day = list(range(1,len(Infected)+1))\n",
    "\n",
    "# complete the code\n",
    "figure, axes = plt.subplots(nrows=1,ncols=2,figsize=(15,5))\n",
    "axes[0].plot(Day,Infected)\n",
    "\n",
    "# use log scale to show log-linear growth \n",
    "axes[1].plot(Day,np.log(Infected))\n",
    "\n",
    "plt.show()"
   ]
  },
  {
   "cell_type": "markdown",
   "metadata": {},
   "source": [
    "For the US as a whole from day 40 Covid 19 starts to show exponential growth for the US as a whole. WA, CA, and NY are already showing exponential growth. Lockdowns begin around day 60 and we are on watch to see if we can \"bend the curve\". Let's see what the model says on the data from day 40 to 60."
   ]
  },
  {
   "cell_type": "code",
   "execution_count": 19,
   "metadata": {},
   "outputs": [
    {
     "name": "stdout",
     "output_type": "stream",
     "text": [
      "Day 40 is  2020-03-01 00:00:00 with infections of 42\n",
      "Day 60 is  2020-03-21 00:00:00 with infections of 23710\n"
     ]
    }
   ],
   "source": [
    "# For the US as a whole from day 40 Covid 19 starts to show exponential growth for the US as a whole.  WA, CA, and NY\n",
    "# are already showing exponential growth.  Lockdowns begin around day 60 and we are on watch to see if we can \"bend \n",
    "# the curve\".  Let's see what the model says on the data from day 40 to 60.\n",
    "sdate = 40\n",
    "fdate = 60\n",
    "print(\"Day\",sdate,\"is \",dat[\"Date\"].iloc[sdate],\"with infections of\",Infected[sdate])\n",
    "print(\"Day\",fdate,\"is \",dat[\"Date\"].iloc[fdate],\"with infections of\",Infected[fdate])\n",
    "\n",
    "# keep track of the start date for model\n",
    "model_date = str(dat[\"Date\"].iloc[sdate]).split(' ')[0] # eliminate the hours minutes seconds\n",
    "\n",
    "# Apply the SIR model to the early March data\n",
    "mod_Infected = Infected[sdate:fdate]"
   ]
  },
  {
   "cell_type": "markdown",
   "metadata": {},
   "source": [
    "Set up the initial conditions for the model"
   ]
  },
  {
   "cell_type": "code",
   "execution_count": 20,
   "metadata": {},
   "outputs": [],
   "source": [
    "# total population\n",
    "N = 300_000_000  \n",
    "# initial infected\n",
    "I0 = Infected[sdate]\n",
    "# initial recovered\n",
    "R0 = int(I0*0.9)        # Guess that 90 % recovered\n",
    "#initial unsceptible\n",
    "S0 = N - I0 - R0"
   ]
  },
  {
   "cell_type": "markdown",
   "metadata": {},
   "source": [
    "We’ll also need to assign values for $\\beta$ and $\\gamma$. We’ll optimize the model for the best $\\beta$ and $\\gamma$."
   ]
  },
  {
   "cell_type": "markdown",
   "metadata": {},
   "source": [
    "Now, let’s build our initial conditions vector,  and then use linspace to create an array containing our 200 sampling points (days)."
   ]
  },
  {
   "cell_type": "code",
   "execution_count": 21,
   "metadata": {},
   "outputs": [],
   "source": [
    "# initial conditions vector\n",
    "y0 = (S0, I0, R0)\n",
    "# 200 evenly spaced values (representing days)\n",
    "t = np.linspace(1, 200, 200)"
   ]
  },
  {
   "cell_type": "markdown",
   "metadata": {},
   "source": [
    "Here's the SIR differential equation model again"
   ]
  },
  {
   "cell_type": "code",
   "execution_count": 22,
   "metadata": {},
   "outputs": [],
   "source": [
    "def SIR(y, t, N, beta, gamma):\n",
    "    # S, I, R values assigned from vector\n",
    "    S, I, R = y\n",
    "    # differential equations\n",
    "    dSdt = -beta * S * I / N\n",
    "    dIdt = beta * S * I / N - gamma * I   # <--- filled in\n",
    "    dRdt = gamma * I                     # <--- filled in\n",
    "    return dSdt, dIdt, dRdt"
   ]
  },
  {
   "cell_type": "markdown",
   "metadata": {},
   "source": [
    "Let's create a residual sum of squares function RSS that minimizes the RSS between the SIR model and the observed data wrt to $\\beta$ and $\\gamma$.\n",
    "\n",
    "We will use minimize and least_squares from the scipy.optimize library."
   ]
  },
  {
   "cell_type": "code",
   "execution_count": 23,
   "metadata": {},
   "outputs": [],
   "source": [
    "# function to integrate SIR model from starting conditions but with ability to change beta over time\n",
    "def SIR_Integ(y0,t,N,beta_0,gamma):\n",
    "    \n",
    "    y = y0\n",
    "    values = np.zeros((len(t),3)) \n",
    "    values[0,0] = y0[0]     # S0\n",
    "    values[0,1] = y0[1]     # I0            #  <---- completed\n",
    "    values[0,2] = y0[2]     # R0\n",
    "    beta = beta_0\n",
    "    \n",
    "    for i in range(1,len(t)):\n",
    "        dSt, dIt, dRt = SIR(y,i,N,beta,gamma)         #  <---- completed\n",
    "        \n",
    "        values[i,0] = values[i-1,0]+dSt\n",
    "        values[i,1] = values[i-1,1]+dIt   #  <---- completed\n",
    "        values[i,2] = values[i-1,2]+dRt \n",
    "        y = (values[i,0],values[i,1],values[i,2])         #  <---- completed\n",
    "        \n",
    "    return values"
   ]
  },
  {
   "cell_type": "markdown",
   "metadata": {},
   "source": [
    "# Create an RSS (residual sum of squares) function to fit best beta and gamma using the least squares optimizer"
   ]
  },
  {
   "cell_type": "code",
   "execution_count": 24,
   "metadata": {},
   "outputs": [
    {
     "data": {
      "text/plain": [
       "487891473.66336894"
      ]
     },
     "execution_count": 24,
     "metadata": {},
     "output_type": "execute_result"
    }
   ],
   "source": [
    "import numpy as np\n",
    "from scipy.optimize import minimize,least_squares\n",
    "\n",
    "# python optimization function\n",
    "def RSS(x,y0,t,N,Infected):\n",
    "\n",
    "    #import pdb;pdb.set_trace()\n",
    "    # Integrate the diff eqs over the time array\n",
    "    out = SIR_Integ(y0,t, N, x[0], x[1])\n",
    "    \n",
    "    # assign S, I, R values from values transpose\n",
    "    S, I, R = out.T\n",
    "    \n",
    "    rss = np.sum((np.array(I)-np.array(Infected))**2)\n",
    "    return rss\n",
    "\n",
    "# contact rate\n",
    "beta = 0.3\n",
    "# mean recovery rate\n",
    "gamma = 0.1\n",
    "model = 1\n",
    "\n",
    "RSS([beta,gamma],y0,t[0:len(mod_Infected)],N,mod_Infected)"
   ]
  },
  {
   "cell_type": "code",
   "execution_count": 25,
   "metadata": {
    "scrolled": false
   },
   "outputs": [
    {
     "name": "stdout",
     "output_type": "stream",
     "text": [
      " active_mask: array([0., 0.])\n",
      "        cost: 3026092796552.0796\n",
      "         fun: array([2460119.02010943])\n",
      "        grad: array([1.62598491e+10, 1.39158170e+09])\n",
      "         jac: array([[6609.375  ,  565.65625]])\n",
      "     message: '`ftol` termination condition is satisfied.'\n",
      "        nfev: 25\n",
      "        njev: 12\n",
      "  optimality: 16259849148.535732\n",
      "      status: 2\n",
      "     success: True\n",
      "           x: array([0.6851162 , 0.31488305])\n"
     ]
    }
   ],
   "source": [
    "# using least squares\n",
    "sub_t = t[0:len(mod_Infected)]\n",
    "ropt = least_squares(fun=RSS,\n",
    "                args=(y0,sub_t,N,mod_Infected),\n",
    "                x0 = (0.5,0.5))      # <- initial guess\n",
    "\n",
    "print(ropt)"
   ]
  },
  {
   "cell_type": "markdown",
   "metadata": {},
   "source": [
    "We can now pass the function to odeint, using the best fit $\\beta$ and $\\gamma$, and pull the resulting susceptible, infected and recovered values from the transpose of the returned array."
   ]
  },
  {
   "cell_type": "markdown",
   "metadata": {},
   "source": [
    "# Base Case - Status quo, no change in Beta i.e. no social distancing"
   ]
  },
  {
   "cell_type": "code",
   "execution_count": 26,
   "metadata": {},
   "outputs": [],
   "source": [
    "# Integrate the diff eqs over the time array using the best fit beta and data for recent data\n",
    "beta = ropt[\"x\"][0]\n",
    "gamma = ropt[\"x\"][1]\n",
    "model = 1\n",
    "slow = 1\n",
    "\n",
    "if model == 1:\n",
    "    values = SIR_Integ(y0, t, N, beta, gamma)\n",
    "else:\n",
    "    values = SIR_Integ(y0, t, N, beta*slow, gamma)\n",
    "\n",
    "# assign S, I, R values from values transpose\n",
    "S, I, R = values.T"
   ]
  },
  {
   "cell_type": "markdown",
   "metadata": {},
   "source": [
    "Finally, we can plot the arrays using matplotlib:"
   ]
  },
  {
   "cell_type": "code",
   "execution_count": 27,
   "metadata": {},
   "outputs": [
    {
     "data": {
      "text/html": [
       "<style>div.output_scroll { height: 44em; }</style>"
      ],
      "text/plain": [
       "<IPython.core.display.HTML object>"
      ]
     },
     "metadata": {},
     "output_type": "display_data"
    }
   ],
   "source": [
    "from IPython.core.display import display, HTML\n",
    "display(HTML(\"<style>div.output_scroll { height: 44em; }</style>\"))"
   ]
  },
  {
   "cell_type": "code",
   "execution_count": 28,
   "metadata": {},
   "outputs": [
    {
     "data": {
      "image/png": "[encoded data removed]",
      "text/plain": [
       "<Figure size 1440x720 with 2 Axes>"
      ]
     },
     "metadata": {
      "needs_background": "light"
     },
     "output_type": "display_data"
    }
   ],
   "source": [
    "# Complete the code below\n",
    "# Creates two subplots and unpacks the output array immediately\n",
    "fig, (ax1, ax2) = plt.subplots(1, 2,figsize=(20, 10))\n",
    "\n",
    "# first plot not transformation on data\n",
    "ax1.plot(t, S, 'black', label = 'Susceptible')\n",
    "ax1.plot(t, I, 'orange', label = 'Infected')\n",
    "ax1.plot(t, R, 'blue', label = 'Recovered')\n",
    "ax1.plot(sub_t,Infected[:len(sub_t)],'or',markersize=8,label = 'data')\n",
    "ax1.set_xlabel('Time (days)')\n",
    "ax1.set_ylabel('Number of People')\n",
    "ax1.grid(b=True, which='major', c='#bbbbbb', lw=1, ls='-')\n",
    "ax1.set_title(\"Beta0 = \"+format(beta,'.1f')+\" Gamma = \"+format(gamma,'.1f'))\n",
    "legend = ax1.legend()\n",
    "legend.get_frame().set_alpha(0.5)\n",
    "\n",
    "# second plot - log of data to show exponential nature of growth\n",
    "ax2.plot(t, np.log(S), 'black', label = 'Susceptible')\n",
    "ax2.plot(t, np.log(I), 'orange', label = 'Infected')\n",
    "ax2.plot(t, np.log(R), 'blue', label = 'Recovered')\n",
    "ax2.plot(sub_t,np.log(mod_Infected),'or',markersize=8,label = 'data')\n",
    "ax2.set_xlabel('Time (days)')\n",
    "ax2.set_ylabel('Number of People')\n",
    "ax2.grid(b=True, which='major', c='#bbbbbb', lw=1, ls='-')\n",
    "ax2.set_title(\"LOG SCALE: Beta0 = \"+format(beta,'.1f')+\" Gamma = \"+format(gamma,'.1f'))\n",
    "legend = ax2.legend()\n",
    "legend.get_frame().set_alpha(0.5)\n",
    "\n",
    "if model == 1:\n",
    "    fig.suptitle(f'Model = SIR with unchanged beta')\n",
    "else:\n",
    "    fig.suptitle(f'Model = SIR with Slowed Beta --- beta drops from {beta:.2f} to {beta*slow:.2f}')\n",
    "\n",
    "plt.show()"
   ]
  },
  {
   "cell_type": "markdown",
   "metadata": {},
   "source": [
    "We see in the right log-linear plot that the model seems to fit the values quite well. We can now extract some interesting statistics. One important number is the so-called basic reproduction number (also basic reproduction ratio)  (pronounced “R naught”) which basically shows how many healthy people get infected by a sick person on average:"
   ]
  },
  {
   "cell_type": "code",
   "execution_count": 29,
   "metadata": {
    "scrolled": true
   },
   "outputs": [
    {
     "name": "stdout",
     "output_type": "stream",
     "text": [
      "Model = SIR with unchanged beta\n",
      "    RO =  2.18\n",
      "    Start Data =  2020-03-01\n",
      "    Days to Peak Infection =  49\n",
      "    Remaining days to peak infection =  29\n",
      "    Peak Infected =  59,553,058  or  19.85% of population\n",
      "    Deaths at Infection Peak =  595,531 at mortality rate of  1.00%\n",
      "    Peak Recovered (Immune + Dead) =  257,755,894 or  86% of population\n",
      "    Total Deaths =  2,577,559 at mortality rate of  1.00%\n"
     ]
    }
   ],
   "source": [
    "# summarize some of the statistics\n",
    "# Your code here to generate the output below\n",
    "R0 = beta/gamma   \n",
    "mort = 0.01          # assumed mortality rate\n",
    "\n",
    "print(f'Model = SIR with unchanged beta')\n",
    "print(\"    RO = \",format(R0,'0.2f'))\n",
    "print(\"    Start Data = \",model_date)\n",
    "print(\"    Days to Peak Infection = \", np.argmax(I))\n",
    "print(\"    Remaining days to peak infection = \",np.argmax(I) -len(sub_t))\n",
    "print(\"    Peak Infected = \", format(I[np.argmax(I)],\",.0f\"),\" or \",format(I[np.argmax(I)]/N,\".2%\"),\"of population\")\n",
    "print(\"    Deaths at Infection Peak = \",format(I[np.argmax(I)] * mort,',.0f'),\"at mortality rate of \",format(mort,\".2%\"))\n",
    "print(\"    Peak Recovered (Immune + Dead) = \", format(R[-1],\",.0f\"), \"or \",format(R[-1]/N,\",.0%\"),\"of population\")\n",
    "print(\"    Total Deaths = \",format(R[-1] * mort,',.0f'),\"at mortality rate of \",format(mort,\".2%\"))   "
   ]
  },
  {
   "cell_type": "code",
   "execution_count": 30,
   "metadata": {
    "scrolled": true
   },
   "outputs": [
    {
     "name": "stdout",
     "output_type": "stream",
     "text": [
      "Model = SIR with unchanged beta\n",
      "    Day at which  500,000 K infections reached =  30  or  10  days from now\n",
      "    Infections =  531,075\n"
     ]
    }
   ],
   "source": [
    "Cases = 500_000\n",
    "cross_day = (I>Cases).argmax()\n",
    "print(f'Model = SIR with unchanged beta')\n",
    "print(\"    Day at which \",format(Cases,\",.0f\"),\"K infections reached = \",format((I>Cases).argmax()), \" or \",\n",
    "     (cross_day - len(sub_t)),\" days from now\")\n",
    "print(\"    Infections = \",format(I[(I>Cases).argmax()],\",.0f\"))"
   ]
  },
  {
   "cell_type": "markdown",
   "metadata": {},
   "source": [
    "# Question:   \n",
    "The US had approximately 950K hospital beds in March.  Would we have enough beds at peak infection assuming 5% of the infected need medical attention? "
   ]
  },
  {
   "cell_type": "code",
   "execution_count": 31,
   "metadata": {},
   "outputs": [
    {
     "data": {
      "text/plain": [
       "False"
      ]
     },
     "execution_count": 31,
     "metadata": {},
     "output_type": "execute_result"
    }
   ],
   "source": [
    "# 5% of peak infected <= 950K? \n",
    "0.05 * 59_553_058 <= 950_000 # if true, there ARE enough beds at peak infection. "
   ]
  },
  {
   "cell_type": "markdown",
   "metadata": {},
   "source": [
    "# Answer: \n",
    "## We would *not* have enough beds at peak infection assuming 5% of the infected need medical attention. For this scenerio, 2,977,653 beds would be needed, thus there would be a shortage of 2,027,653 beds! \n"
   ]
  },
  {
   "cell_type": "markdown",
   "metadata": {},
   "source": [
    "# Case 2 - Slowed Beta for example b/c of social distancing"
   ]
  },
  {
   "cell_type": "code",
   "execution_count": 32,
   "metadata": {},
   "outputs": [],
   "source": [
    "# Integrate the diff eqs over the time array using the best fit beta and data for recent data\n",
    "beta = ropt[\"x\"][0]\n",
    "gamma = ropt[\"x\"][1]\n",
    "slow = 0.7           # reduce beta by this factor\n",
    "model = 2\n",
    "\n",
    "# code inserted below\n",
    "if model == 1:\n",
    "    values = SIR_Integ(y0, t, N, beta, gamma)\n",
    "else:\n",
    "    values = SIR_Integ(y0, t, N, beta*slow, gamma)\n",
    "\n",
    "# assign S, I, R values from values transpose\n",
    "S, I, R = values.T"
   ]
  },
  {
   "cell_type": "markdown",
   "metadata": {},
   "source": [
    "Finally, we can plot the arrays using matplotlib:"
   ]
  },
  {
   "cell_type": "markdown",
   "metadata": {},
   "source": [
    "Notice how reducing beta or the R0 has \"flattened\" the curve and pushed out the peak in time buying time for hospital capacity to meet the peak."
   ]
  },
  {
   "cell_type": "code",
   "execution_count": 33,
   "metadata": {},
   "outputs": [
    {
     "data": {
      "image/png": "[encoded data removed]",
      "text/plain": [
       "<Figure size 1440x720 with 2 Axes>"
      ]
     },
     "metadata": {
      "needs_background": "light"
     },
     "output_type": "display_data"
    }
   ],
   "source": [
    "#fig = plt.figure()\n",
    "# Creates two subplots and unpacks the output array immediately\n",
    "fig, (ax1, ax2) = plt.subplots(1, 2,figsize=(20, 10))\n",
    "\n",
    "# first plot no transformation on data\n",
    "ax1.plot(t, S, 'black', label = 'Susceptible')\n",
    "ax1.plot(t, I, 'orange', label = 'Infected')\n",
    "ax1.plot(t, R, 'blue', label = 'Recovered')\n",
    "ax1.plot(sub_t,Infected[:len(sub_t)],'or',markersize=8,label = 'data')\n",
    "ax1.set_xlabel('Time (days)')\n",
    "ax1.set_ylabel('Number of People')\n",
    "ax1.grid(b=True, which='major', c='#bbbbbb', lw=1, ls='-')\n",
    "ax1.set_title(\"Beta0 = \"+format(beta,'.1f')+\" Gamma = \"+format(gamma,'.1f'))\n",
    "legend = ax1.legend()\n",
    "legend.get_frame().set_alpha(0.5)\n",
    "\n",
    "# second plot - log of data to show exponential nature of growth\n",
    "ax2.plot(t, np.log(S), 'black', label = 'Susceptible')\n",
    "ax2.plot(t, np.log(I), 'orange', label = 'Infected')\n",
    "ax2.plot(t, np.log(R), 'blue', label = 'Recovered')\n",
    "ax2.plot(sub_t,np.log(mod_Infected),'or',markersize=8,label = 'data')\n",
    "ax2.set_xlabel('Time (days)')\n",
    "ax2.set_ylabel('Number of People')\n",
    "ax2.grid(b=True, which='major', c='#bbbbbb', lw=1, ls='-')\n",
    "ax2.set_title(\"LOG SCALE: Beta0 = \"+format(beta,'.1f')+\" Gamma = \"+format(gamma,'.1f'))\n",
    "legend = ax2.legend()\n",
    "legend.get_frame().set_alpha(0.5)\n",
    "\n",
    "if model == 1:\n",
    "    fig.suptitle(f'Model = SIR with unchanged beta')\n",
    "else:\n",
    "    fig.suptitle(f'Model = SIR with Slowed Beta --- beta drops from {beta:.2f} to {beta*slow:.2f}')\n",
    "\n",
    "plt.show()"
   ]
  },
  {
   "cell_type": "code",
   "execution_count": 34,
   "metadata": {
    "scrolled": false
   },
   "outputs": [
    {
     "name": "stdout",
     "output_type": "stream",
     "text": [
      "Model = Slowed Beta --- beta drops from 0.69 to 0.48\n",
      "    RO   =  2.18\n",
      "    RNew =  1.52\n",
      "    Start Data =  2020-03-01\n",
      "    Days to Peak Infection =  95\n",
      "    Remaining days to peak infection =  75\n",
      "    Peak Infected =  21,063,497  or  7.02% of population\n",
      "    Deaths at Infection Peak =  210,635 at mortality rate of  1.00%\n",
      "    Peak Recoverd (Immune + Dead) =  182,425,617 or  61% of population\n",
      "    Total Deaths =  1,824,256 at mortality rate of  1.00%\n"
     ]
    }
   ],
   "source": [
    "# summarize some of the statistics\n",
    "# your code here\n",
    "R0 = beta/gamma   \n",
    "mort = 0.01   # assumed mortality rate\n",
    "pk = np.argmax(I)\n",
    "slow = 0.7\n",
    "if model == 1:\n",
    "    print(f'Model = SIR with unchanged beta')\n",
    "    print(\"    RO = \",format(R0,'0.2f'))\n",
    "else:\n",
    "    print(f'Model = Slowed Beta --- beta drops from {beta:.2f} to {beta*slow:.2f}')\n",
    "    print(\"    RO   = \",format(R0,'0.2f'))\n",
    "    RNEW = beta*slow/gamma \n",
    "    print(\"    RNew = \",format(RNEW,'0.2f'))\n",
    "print(\"    Start Data = \",model_date)\n",
    "print(\"    Days to Peak Infection = \", pk)\n",
    "print(\"    Remaining days to peak infection = \",pk -len(sub_t))\n",
    "print(\"    Peak Infected = \", format(I[pk],\",.0f\"),\" or \",format(I[pk]/N,\".2%\"),\"of population\")\n",
    "# max deaths with supposed mortality rate\n",
    "print(\"    Deaths at Infection Peak = \",format(I[I.argmax()]* mort,',.0f'),\"at mortality rate of \",format(mort,\".2%\"))   \n",
    "print(\"    Peak Recoverd (Immune + Dead) = \", format(R[-1],\",.0f\"), \"or \",format(R[-1]/N,\",.0%\"),\"of population\")\n",
    "# max deaths with supposed mortality rate\n",
    "print(\"    Total Deaths = \",format(R[-1] * mort,',.0f'),\"at mortality rate of \",format(mort,\".2%\"))"
   ]
  },
  {
   "cell_type": "code",
   "execution_count": null,
   "metadata": {},
   "outputs": [],
   "source": []
  },
  {
   "cell_type": "code",
   "execution_count": null,
   "metadata": {},
   "outputs": [],
   "source": []
  }
 ],
 "metadata": {
  "kernelspec": {
   "display_name": "Python 3",
   "language": "python",
   "name": "python3"
  },
  "language_info": {
   "codemirror_mode": {
    "name": "ipython",
    "version": 3
   },
   "file_extension": ".py",
   "mimetype": "text/x-python",
   "name": "python",
   "nbconvert_exporter": "python",
   "pygments_lexer": "ipython3",
   "version": "3.7.6"
  }
 },
 "nbformat": 4,
 "nbformat_minor": 4
}
